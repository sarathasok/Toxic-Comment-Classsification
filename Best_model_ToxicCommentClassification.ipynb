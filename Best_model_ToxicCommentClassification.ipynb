{
 "cells": [
  {
   "cell_type": "markdown",
   "metadata": {},
   "source": [
    "# Toxic Comment Classification"
   ]
  },
  {
   "cell_type": "markdown",
   "metadata": {},
   "source": [
    "## Objective\n",
    "\n",
    "Discussions on communities are difficult when there is a threat of harrasment, abuse. This will make the people to stop express themselves and to seek opininons from these platforms. These forums find difficulty to ease communications which is leading to remove the commenting feature from their communities\n",
    "\n",
    "This projects aim to classify comments in the wikipedia talks page based on their toxicity levels like toxic, identity hate , severe toxic, obscene, threat and insult. Proper models will help online communities to deliver fruitful service to the users.\n",
    "\n",
    "From the trained models, the most relevant model must be picked, a web service must be hosted, and the performance is discussed\n",
    "\n",
    "## Dataset\n",
    "\n",
    "Dataset is from wikipedias talk page. Since the data can belong to multiple label simultaneously this is a multi label classifier.\n",
    "Kaggle link for the dataset [1] - https://www.kaggle.com/c/jigsaw-toxic-comment-classification-challenge\n",
    "\n",
    "### Importing Required Libraries\n",
    "\n",
    "Import the required packages and libraries needed for this project"
   ]
  },
  {
   "cell_type": "code",
   "execution_count": 3,
   "metadata": {},
   "outputs": [],
   "source": [
    "import pandas as pd\n",
    "import numpy as np\n",
    "import matplotlib.pyplot as plt\n",
    "import seaborn as sns\n",
    "import nltk\n",
    "import string\n",
    "import re\n",
    "import warnings\n",
    "import wordcloud\n",
    "\n",
    "warnings.filterwarnings('ignore')\n",
    "\n",
    "from wordcloud import WordCloud \n",
    "from nltk.corpus import stopwords\n",
    "from nltk.stem.lancaster import LancasterStemmer \n",
    "from nltk.stem import WordNetLemmatizer\n",
    "from sklearn.model_selection import train_test_split\n",
    "from sklearn.feature_extraction.text import CountVectorizer\n",
    "from sklearn.feature_extraction.text import TfidfVectorizer\n",
    "\n",
    "# import classifiers metrices and plots\n",
    "from sklearn.ensemble import RandomForestClassifier\n",
    "from sklearn import metrics\n",
    "from sklearn.metrics import plot_confusion_matrix\n",
    "from sklearn.metrics import classification_report, confusion_matrix,f1_score, precision_score, recall_score, accuracy_score\n",
    "from sklearn.model_selection import GridSearchCV\n",
    "from sklearn.model_selection import StratifiedKFold\n"
   ]
  },
  {
   "cell_type": "markdown",
   "metadata": {},
   "source": [
    "### Data Loading"
   ]
  },
  {
   "cell_type": "code",
   "execution_count": 4,
   "metadata": {},
   "outputs": [
    {
     "data": {
      "text/html": [
       "<div>\n",
       "<style scoped>\n",
       "    .dataframe tbody tr th:only-of-type {\n",
       "        vertical-align: middle;\n",
       "    }\n",
       "\n",
       "    .dataframe tbody tr th {\n",
       "        vertical-align: top;\n",
       "    }\n",
       "\n",
       "    .dataframe thead th {\n",
       "        text-align: right;\n",
       "    }\n",
       "</style>\n",
       "<table border=\"1\" class=\"dataframe\">\n",
       "  <thead>\n",
       "    <tr style=\"text-align: right;\">\n",
       "      <th></th>\n",
       "      <th>id</th>\n",
       "      <th>comment_text</th>\n",
       "      <th>toxic</th>\n",
       "      <th>severe_toxic</th>\n",
       "      <th>obscene</th>\n",
       "      <th>threat</th>\n",
       "      <th>insult</th>\n",
       "      <th>identity_hate</th>\n",
       "    </tr>\n",
       "  </thead>\n",
       "  <tbody>\n",
       "    <tr>\n",
       "      <th>0</th>\n",
       "      <td>0000997932d777bf</td>\n",
       "      <td>Explanation\\nWhy the edits made under my usern...</td>\n",
       "      <td>0</td>\n",
       "      <td>0</td>\n",
       "      <td>0</td>\n",
       "      <td>0</td>\n",
       "      <td>0</td>\n",
       "      <td>0</td>\n",
       "    </tr>\n",
       "    <tr>\n",
       "      <th>1</th>\n",
       "      <td>000103f0d9cfb60f</td>\n",
       "      <td>D'aww! He matches this background colour I'm s...</td>\n",
       "      <td>0</td>\n",
       "      <td>0</td>\n",
       "      <td>0</td>\n",
       "      <td>0</td>\n",
       "      <td>0</td>\n",
       "      <td>0</td>\n",
       "    </tr>\n",
       "    <tr>\n",
       "      <th>2</th>\n",
       "      <td>000113f07ec002fd</td>\n",
       "      <td>Hey man, I'm really not trying to edit war. It...</td>\n",
       "      <td>0</td>\n",
       "      <td>0</td>\n",
       "      <td>0</td>\n",
       "      <td>0</td>\n",
       "      <td>0</td>\n",
       "      <td>0</td>\n",
       "    </tr>\n",
       "    <tr>\n",
       "      <th>3</th>\n",
       "      <td>0001b41b1c6bb37e</td>\n",
       "      <td>\"\\nMore\\nI can't make any real suggestions on ...</td>\n",
       "      <td>0</td>\n",
       "      <td>0</td>\n",
       "      <td>0</td>\n",
       "      <td>0</td>\n",
       "      <td>0</td>\n",
       "      <td>0</td>\n",
       "    </tr>\n",
       "    <tr>\n",
       "      <th>4</th>\n",
       "      <td>0001d958c54c6e35</td>\n",
       "      <td>You, sir, are my hero. Any chance you remember...</td>\n",
       "      <td>0</td>\n",
       "      <td>0</td>\n",
       "      <td>0</td>\n",
       "      <td>0</td>\n",
       "      <td>0</td>\n",
       "      <td>0</td>\n",
       "    </tr>\n",
       "    <tr>\n",
       "      <th>5</th>\n",
       "      <td>00025465d4725e87</td>\n",
       "      <td>\"\\n\\nCongratulations from me as well, use the ...</td>\n",
       "      <td>0</td>\n",
       "      <td>0</td>\n",
       "      <td>0</td>\n",
       "      <td>0</td>\n",
       "      <td>0</td>\n",
       "      <td>0</td>\n",
       "    </tr>\n",
       "    <tr>\n",
       "      <th>6</th>\n",
       "      <td>0002bcb3da6cb337</td>\n",
       "      <td>COCKSUCKER BEFORE YOU PISS AROUND ON MY WORK</td>\n",
       "      <td>1</td>\n",
       "      <td>1</td>\n",
       "      <td>1</td>\n",
       "      <td>0</td>\n",
       "      <td>1</td>\n",
       "      <td>0</td>\n",
       "    </tr>\n",
       "    <tr>\n",
       "      <th>7</th>\n",
       "      <td>00031b1e95af7921</td>\n",
       "      <td>Your vandalism to the Matt Shirvington article...</td>\n",
       "      <td>0</td>\n",
       "      <td>0</td>\n",
       "      <td>0</td>\n",
       "      <td>0</td>\n",
       "      <td>0</td>\n",
       "      <td>0</td>\n",
       "    </tr>\n",
       "    <tr>\n",
       "      <th>8</th>\n",
       "      <td>00037261f536c51d</td>\n",
       "      <td>Sorry if the word 'nonsense' was offensive to ...</td>\n",
       "      <td>0</td>\n",
       "      <td>0</td>\n",
       "      <td>0</td>\n",
       "      <td>0</td>\n",
       "      <td>0</td>\n",
       "      <td>0</td>\n",
       "    </tr>\n",
       "    <tr>\n",
       "      <th>9</th>\n",
       "      <td>00040093b2687caa</td>\n",
       "      <td>alignment on this subject and which are contra...</td>\n",
       "      <td>0</td>\n",
       "      <td>0</td>\n",
       "      <td>0</td>\n",
       "      <td>0</td>\n",
       "      <td>0</td>\n",
       "      <td>0</td>\n",
       "    </tr>\n",
       "  </tbody>\n",
       "</table>\n",
       "</div>"
      ],
      "text/plain": [
       "                 id                                       comment_text  toxic  \\\n",
       "0  0000997932d777bf  Explanation\\nWhy the edits made under my usern...      0   \n",
       "1  000103f0d9cfb60f  D'aww! He matches this background colour I'm s...      0   \n",
       "2  000113f07ec002fd  Hey man, I'm really not trying to edit war. It...      0   \n",
       "3  0001b41b1c6bb37e  \"\\nMore\\nI can't make any real suggestions on ...      0   \n",
       "4  0001d958c54c6e35  You, sir, are my hero. Any chance you remember...      0   \n",
       "5  00025465d4725e87  \"\\n\\nCongratulations from me as well, use the ...      0   \n",
       "6  0002bcb3da6cb337       COCKSUCKER BEFORE YOU PISS AROUND ON MY WORK      1   \n",
       "7  00031b1e95af7921  Your vandalism to the Matt Shirvington article...      0   \n",
       "8  00037261f536c51d  Sorry if the word 'nonsense' was offensive to ...      0   \n",
       "9  00040093b2687caa  alignment on this subject and which are contra...      0   \n",
       "\n",
       "   severe_toxic  obscene  threat  insult  identity_hate  \n",
       "0             0        0       0       0              0  \n",
       "1             0        0       0       0              0  \n",
       "2             0        0       0       0              0  \n",
       "3             0        0       0       0              0  \n",
       "4             0        0       0       0              0  \n",
       "5             0        0       0       0              0  \n",
       "6             1        1       0       1              0  \n",
       "7             0        0       0       0              0  \n",
       "8             0        0       0       0              0  \n",
       "9             0        0       0       0              0  "
      ]
     },
     "execution_count": 4,
     "metadata": {},
     "output_type": "execute_result"
    }
   ],
   "source": [
    "# Read the data and display first 10 rows\n",
    "\n",
    "data = pd.read_csv('data.csv')\n",
    "data.head(10) # visualize first 10 data of the input"
   ]
  },
  {
   "cell_type": "markdown",
   "metadata": {},
   "source": [
    "**We have data in the comment_text column as independent variable and other 6 columns from toxic to identity_hate as our dependent variables.\n",
    "Rows that are having values 0 for all the 6 categories are non-toxic comments**"
   ]
  },
  {
   "cell_type": "code",
   "execution_count": 5,
   "metadata": {},
   "outputs": [
    {
     "name": "stdout",
     "output_type": "stream",
     "text": [
      "<class 'pandas.core.frame.DataFrame'>\n",
      "RangeIndex: 159571 entries, 0 to 159570\n",
      "Data columns (total 8 columns):\n",
      " #   Column         Non-Null Count   Dtype \n",
      "---  ------         --------------   ----- \n",
      " 0   id             159571 non-null  object\n",
      " 1   comment_text   159571 non-null  object\n",
      " 2   toxic          159571 non-null  int64 \n",
      " 3   severe_toxic   159571 non-null  int64 \n",
      " 4   obscene        159571 non-null  int64 \n",
      " 5   threat         159571 non-null  int64 \n",
      " 6   insult         159571 non-null  int64 \n",
      " 7   identity_hate  159571 non-null  int64 \n",
      "dtypes: int64(6), object(2)\n",
      "memory usage: 9.7+ MB\n"
     ]
    }
   ],
   "source": [
    "data.info() # gives the information about the data "
   ]
  },
  {
   "cell_type": "markdown",
   "metadata": {},
   "source": [
    "* Dataset is clean with no null values so we dont want to do any cleaning methods."
   ]
  },
  {
   "cell_type": "markdown",
   "metadata": {},
   "source": [
    "There are six labels in out dataset and comments that are not present in any of these labels can be classified as non_toxic comments."
   ]
  },
  {
   "cell_type": "markdown",
   "metadata": {},
   "source": [
    "##### Display the number of comments in each label"
   ]
  },
  {
   "cell_type": "code",
   "execution_count": 6,
   "metadata": {},
   "outputs": [],
   "source": [
    "rowsum=data.iloc[:,2:].sum(axis=1)\n",
    "data['non_toxic']=(rowsum==0) # Check whether data is non_toxic and assign a boolean value in the non_toxic column \n",
    "data['non_toxic']=data['non_toxic'].astype(int) # Convert the boolean value in the non_toxic value to 0 or 1"
   ]
  },
  {
   "cell_type": "code",
   "execution_count": 7,
   "metadata": {},
   "outputs": [
    {
     "data": {
      "text/plain": [
       "toxic             15294\n",
       "severe_toxic       1595\n",
       "obscene            8449\n",
       "threat              478\n",
       "insult             7877\n",
       "identity_hate      1405\n",
       "non_toxic        143346\n",
       "dtype: int64"
      ]
     },
     "execution_count": 7,
     "metadata": {},
     "output_type": "execute_result"
    }
   ],
   "source": [
    "# find number of comments in each category\n",
    "data.iloc[:,2:].sum()"
   ]
  },
  {
   "cell_type": "markdown",
   "metadata": {},
   "source": [
    "From analysing the above result we can see that there are a lot more data is present in non_toxic comment which wont be necessary for us to train the model. Inorder to reduce the processing time we can remove sum of the non_toxic comment from the datset."
   ]
  },
  {
   "cell_type": "markdown",
   "metadata": {},
   "source": [
    "### Data Visualisation & Analysis\n",
    "\n",
    "For better understanding of the data we can plot the  dataset using various plots "
   ]
  },
  {
   "cell_type": "code",
   "execution_count": 8,
   "metadata": {},
   "outputs": [],
   "source": [
    "data_non_tox=data[data['non_toxic']==1] # dataset with non_toxic comments only"
   ]
  },
  {
   "cell_type": "code",
   "execution_count": 9,
   "metadata": {},
   "outputs": [],
   "source": [
    "data_non_tox= data_non_tox.iloc[:50000,:] # Selecting only 50000 non_toxic comments"
   ]
  },
  {
   "cell_type": "markdown",
   "metadata": {},
   "source": [
    "##### create a new data frame with only 50000 nontoxic data and all other data in the same amount"
   ]
  },
  {
   "cell_type": "code",
   "execution_count": 9,
   "metadata": {},
   "outputs": [],
   "source": [
    "# Insert all non_toxic comments to the new data frame\n",
    "data_new = data[data['non_toxic']==0]"
   ]
  },
  {
   "cell_type": "code",
   "execution_count": 10,
   "metadata": {},
   "outputs": [],
   "source": [
    "# add 100000 non_toxic comments to the data frame\n",
    "data_new = pd.concat([data_new,data_non_tox])\n",
    "data_new = data_new.sample(frac=1) #Shuffle the data in the dataframe"
   ]
  },
  {
   "cell_type": "markdown",
   "metadata": {},
   "source": [
    "From the above data we can see that index of the data has been changed because we removed non_toxic data from the orginal data. So we  will be resetting the index "
   ]
  },
  {
   "cell_type": "code",
   "execution_count": 11,
   "metadata": {},
   "outputs": [
    {
     "data": {
      "text/html": [
       "<div>\n",
       "<style scoped>\n",
       "    .dataframe tbody tr th:only-of-type {\n",
       "        vertical-align: middle;\n",
       "    }\n",
       "\n",
       "    .dataframe tbody tr th {\n",
       "        vertical-align: top;\n",
       "    }\n",
       "\n",
       "    .dataframe thead th {\n",
       "        text-align: right;\n",
       "    }\n",
       "</style>\n",
       "<table border=\"1\" class=\"dataframe\">\n",
       "  <thead>\n",
       "    <tr style=\"text-align: right;\">\n",
       "      <th></th>\n",
       "      <th>id</th>\n",
       "      <th>comment_text</th>\n",
       "      <th>toxic</th>\n",
       "      <th>severe_toxic</th>\n",
       "      <th>obscene</th>\n",
       "      <th>threat</th>\n",
       "      <th>insult</th>\n",
       "      <th>identity_hate</th>\n",
       "      <th>non_toxic</th>\n",
       "    </tr>\n",
       "  </thead>\n",
       "  <tbody>\n",
       "    <tr>\n",
       "      <th>0</th>\n",
       "      <td>21311b3a6a77534b</td>\n",
       "      <td>\"\\n\\nOK. A talk page...  \\n\\n Rick Perry edit:...</td>\n",
       "      <td>0</td>\n",
       "      <td>0</td>\n",
       "      <td>0</td>\n",
       "      <td>0</td>\n",
       "      <td>0</td>\n",
       "      <td>0</td>\n",
       "      <td>1</td>\n",
       "    </tr>\n",
       "    <tr>\n",
       "      <th>1</th>\n",
       "      <td>a44bbf2df12780e2</td>\n",
       "      <td>Fuck off commie, stop covering up the fact you...</td>\n",
       "      <td>1</td>\n",
       "      <td>0</td>\n",
       "      <td>1</td>\n",
       "      <td>0</td>\n",
       "      <td>1</td>\n",
       "      <td>0</td>\n",
       "      <td>0</td>\n",
       "    </tr>\n",
       "    <tr>\n",
       "      <th>2</th>\n",
       "      <td>fe803a825b7d3aff</td>\n",
       "      <td>REDIRECT Talk:International Orange Chorale of ...</td>\n",
       "      <td>0</td>\n",
       "      <td>0</td>\n",
       "      <td>0</td>\n",
       "      <td>0</td>\n",
       "      <td>0</td>\n",
       "      <td>0</td>\n",
       "      <td>1</td>\n",
       "    </tr>\n",
       "    <tr>\n",
       "      <th>3</th>\n",
       "      <td>72e698d9a3bace7a</td>\n",
       "      <td>\"Please remove the recently added sepia-toned ...</td>\n",
       "      <td>0</td>\n",
       "      <td>0</td>\n",
       "      <td>0</td>\n",
       "      <td>0</td>\n",
       "      <td>0</td>\n",
       "      <td>0</td>\n",
       "      <td>1</td>\n",
       "    </tr>\n",
       "    <tr>\n",
       "      <th>4</th>\n",
       "      <td>6d54a03174011da6</td>\n",
       "      <td>Well Christians worship a man that has been de...</td>\n",
       "      <td>0</td>\n",
       "      <td>0</td>\n",
       "      <td>0</td>\n",
       "      <td>0</td>\n",
       "      <td>0</td>\n",
       "      <td>0</td>\n",
       "      <td>1</td>\n",
       "    </tr>\n",
       "    <tr>\n",
       "      <th>5</th>\n",
       "      <td>251dac831af76174</td>\n",
       "      <td>\"\\nWelcome!\\n\\nHello, , and welcome to Wikiped...</td>\n",
       "      <td>0</td>\n",
       "      <td>0</td>\n",
       "      <td>0</td>\n",
       "      <td>0</td>\n",
       "      <td>0</td>\n",
       "      <td>0</td>\n",
       "      <td>1</td>\n",
       "    </tr>\n",
       "    <tr>\n",
       "      <th>6</th>\n",
       "      <td>09f7e0b6ca4b4704</td>\n",
       "      <td>\"\\n\\nRemove the lists of stations, no one is l...</td>\n",
       "      <td>0</td>\n",
       "      <td>0</td>\n",
       "      <td>0</td>\n",
       "      <td>0</td>\n",
       "      <td>0</td>\n",
       "      <td>0</td>\n",
       "      <td>1</td>\n",
       "    </tr>\n",
       "    <tr>\n",
       "      <th>7</th>\n",
       "      <td>68b062c29109de40</td>\n",
       "      <td>Article duplicated\\nThis Cricketers article al...</td>\n",
       "      <td>0</td>\n",
       "      <td>0</td>\n",
       "      <td>0</td>\n",
       "      <td>0</td>\n",
       "      <td>0</td>\n",
       "      <td>0</td>\n",
       "      <td>1</td>\n",
       "    </tr>\n",
       "    <tr>\n",
       "      <th>8</th>\n",
       "      <td>8a71d771ce0032d7</td>\n",
       "      <td>\"Below you examples of what happens when someo...</td>\n",
       "      <td>0</td>\n",
       "      <td>0</td>\n",
       "      <td>0</td>\n",
       "      <td>0</td>\n",
       "      <td>0</td>\n",
       "      <td>0</td>\n",
       "      <td>1</td>\n",
       "    </tr>\n",
       "    <tr>\n",
       "      <th>9</th>\n",
       "      <td>5235d72f9cdac55d</td>\n",
       "      <td>BLOOD will be on your hands too,  Jimbo! \\n\\nB...</td>\n",
       "      <td>1</td>\n",
       "      <td>0</td>\n",
       "      <td>0</td>\n",
       "      <td>0</td>\n",
       "      <td>0</td>\n",
       "      <td>0</td>\n",
       "      <td>0</td>\n",
       "    </tr>\n",
       "  </tbody>\n",
       "</table>\n",
       "</div>"
      ],
      "text/plain": [
       "                 id                                       comment_text  toxic  \\\n",
       "0  21311b3a6a77534b  \"\\n\\nOK. A talk page...  \\n\\n Rick Perry edit:...      0   \n",
       "1  a44bbf2df12780e2  Fuck off commie, stop covering up the fact you...      1   \n",
       "2  fe803a825b7d3aff  REDIRECT Talk:International Orange Chorale of ...      0   \n",
       "3  72e698d9a3bace7a  \"Please remove the recently added sepia-toned ...      0   \n",
       "4  6d54a03174011da6  Well Christians worship a man that has been de...      0   \n",
       "5  251dac831af76174  \"\\nWelcome!\\n\\nHello, , and welcome to Wikiped...      0   \n",
       "6  09f7e0b6ca4b4704  \"\\n\\nRemove the lists of stations, no one is l...      0   \n",
       "7  68b062c29109de40  Article duplicated\\nThis Cricketers article al...      0   \n",
       "8  8a71d771ce0032d7  \"Below you examples of what happens when someo...      0   \n",
       "9  5235d72f9cdac55d  BLOOD will be on your hands too,  Jimbo! \\n\\nB...      1   \n",
       "\n",
       "   severe_toxic  obscene  threat  insult  identity_hate  non_toxic  \n",
       "0             0        0       0       0              0          1  \n",
       "1             0        1       0       1              0          0  \n",
       "2             0        0       0       0              0          1  \n",
       "3             0        0       0       0              0          1  \n",
       "4             0        0       0       0              0          1  \n",
       "5             0        0       0       0              0          1  \n",
       "6             0        0       0       0              0          1  \n",
       "7             0        0       0       0              0          1  \n",
       "8             0        0       0       0              0          1  \n",
       "9             0        0       0       0              0          0  "
      ]
     },
     "execution_count": 11,
     "metadata": {},
     "output_type": "execute_result"
    }
   ],
   "source": [
    "# reset index and display first few rows in the data frame\n",
    "data_new.reset_index(drop=True, inplace=True)\n",
    "data_new.head(10)"
   ]
  },
  {
   "cell_type": "code",
   "execution_count": 12,
   "metadata": {},
   "outputs": [],
   "source": [
    "# Assign the dependent variable column names to an array\n",
    "labels = ['toxic','severe_toxic', 'obscene', 'threat', 'insult', 'identity_hate']"
   ]
  },
  {
   "cell_type": "markdown",
   "metadata": {},
   "source": [
    "## Preprocess Dataset"
   ]
  },
  {
   "cell_type": "markdown",
   "metadata": {},
   "source": [
    "Input dataset will be undergoing some prerprocessing to get a perfect model with maximum performance.\n",
    "\n",
    "Following steps will be done to make preprocess the dependent variable (comment_text)\n",
    "\n",
    " 1. Replace newline, carriage return, tabs and digits with white spaces\n",
    " 2. Convert all the comments to lower case\n",
    " 3. Split the comments into words\n",
    " 4. Apply stemming to each words and remove stop words from the sentence.\n",
    " 5. After applying this words are joined and attached to the same data frame\n",
    "\n"
   ]
  },
  {
   "cell_type": "code",
   "execution_count": 13,
   "metadata": {},
   "outputs": [],
   "source": [
    "\n",
    "# Remove unnecessary characters, stopwords and then apply stemming to each words in the comment_text column of the data\n",
    "\n",
    "ls = LancasterStemmer()\n",
    "for i in range(0, len(data_new)):\n",
    "    regex = re.compile('[' + re.escape(string.punctuation) + '0-9\\\\r\\\\t\\\\n]')\n",
    "    comments= regex.sub(\" \", data_new['comment_text'][i])# replacing digits carrige returns, tabs and newline with blank space\n",
    "    comments = comments.lower()\n",
    "    comments = comments.split()\n",
    "    comments1 = [ls.stem(word) for word in comments if not word in stopwords.words('english')]\n",
    "    data_new['comment_text'][i] = ' '.join(comments1)\n",
    "   "
   ]
  },
  {
   "cell_type": "code",
   "execution_count": 15,
   "metadata": {},
   "outputs": [
    {
     "data": {
      "text/plain": [
       "0         expl edit mad usernam hardc metallic fan rever...\n",
       "1         aww match background colo seem stuck thank tal...\n",
       "2         hey man real try edit war guy const remov rele...\n",
       "3         mak real suggest improv wond sect stat lat sub...\n",
       "4                                 sir hero chant rememb pag\n",
       "                                ...                        \n",
       "159566    second tim ask view complet contradict cov rel...\n",
       "159567                        asham horr thing put talk pag\n",
       "159568    spitz um ther act artic prostitut ring crunch ...\n",
       "159569        look lik act put speedy first vert delet look\n",
       "159570    real think understand cam ide bad right away k...\n",
       "Name: comment_text, Length: 159571, dtype: object"
      ]
     },
     "execution_count": 15,
     "metadata": {},
     "output_type": "execute_result"
    }
   ],
   "source": [
    "data_new['comment_text']"
   ]
  },
  {
   "cell_type": "markdown",
   "metadata": {},
   "source": [
    "Before removing the extra non_toxic comments when we tried to stem the data the processing time taken was very big and that too ended up with recursion error, memory allocation error etc."
   ]
  },
  {
   "cell_type": "markdown",
   "metadata": {},
   "source": [
    "We can see that all the comments are converted to lower case and stemming has been applied to each words"
   ]
  },
  {
   "cell_type": "markdown",
   "metadata": {},
   "source": [
    "## Modeling and Evaluation"
   ]
  },
  {
   "cell_type": "markdown",
   "metadata": {},
   "source": [
    "Next step in our process is to train the vectors created for train and test data of both the dataset using a particular model and then Evaluate the result by using test data."
   ]
  },
  {
   "cell_type": "markdown",
   "metadata": {},
   "source": [
    "Steps include:\n",
    "\n",
    "1. Initialize the model - Random Forest Classifier\n",
    "2. Define a function to visualise the confusion matrix produced\n",
    "3. Train the Random Forest Classifier model using our preprocessed datas \n",
    "4. Evaluate the model output using various parameters like Accuracy, F1 score , Confusion Matrix"
   ]
  },
  {
   "cell_type": "markdown",
   "metadata": {},
   "source": [
    "### Manipulating Dataset to Overcome Class Imbalance Issue\n",
    "\n",
    "We will balance the dataset by maintaining a ratio of atleat 20-80 percentage between true label and false label so that we will overcome the class imbalance issue.\n",
    "\n",
    "Steps involved are:\n",
    "* Split the dataset in to 6 categories 1 for each label\n",
    "* Balance each of these data set by adding 0 and 1 in atleat 80:20 ratio\n",
    "* Model the data and analyse the performance"
   ]
  },
  {
   "cell_type": "markdown",
   "metadata": {},
   "source": [
    "### Dataset Creation\n",
    "\n",
    "##### 1) Splitting entire dataset in to 6 set one for each label"
   ]
  },
  {
   "cell_type": "code",
   "execution_count": 16,
   "metadata": {},
   "outputs": [],
   "source": [
    "# Creating different datasets for each category\n",
    "\n",
    "toxic_data = data_new.loc[:,['id','comment_text','toxic']]\n",
    "\n",
    "severe_toxic_data = data_new.loc[:,['id','comment_text','severe_toxic']]\n",
    "\n",
    "obscene_data = data_new.loc[:,['id','comment_text','obscene']]\n",
    "\n",
    "threat_data = data_new.loc[:,['id','comment_text','threat']]\n",
    "\n",
    "insult_data = data_new.loc[:,['id','comment_text','insult']]\n",
    "\n",
    "hate_data = data_new.loc[:,['id','comment_text','identity_hate']]"
   ]
  },
  {
   "cell_type": "markdown",
   "metadata": {},
   "source": [
    "#### 2) Balancing 0 and 1 data of each data with atleast 20-80 ratio"
   ]
  },
  {
   "cell_type": "markdown",
   "metadata": {},
   "source": [
    "### Toxic\n",
    "For toxic data we have 15000+ data for 1 so we take 5000 data each for 0 and 1"
   ]
  },
  {
   "cell_type": "code",
   "execution_count": 17,
   "metadata": {},
   "outputs": [
    {
     "data": {
      "text/plain": [
       "(5000, 3)"
      ]
     },
     "execution_count": 17,
     "metadata": {},
     "output_type": "execute_result"
    }
   ],
   "source": [
    "# Take 5000 rows for 0 and 1 cases and print the shape\n",
    "toxic_data_0 = toxic_data[toxic_data['toxic'] == 0].iloc[0:5000,:]\n",
    "toxic_data_0.shape\n",
    "\n",
    "toxic_data_1 = toxic_data[toxic_data['toxic'] == 1].iloc[0:5000,:]\n",
    "toxic_data_1.shape"
   ]
  },
  {
   "cell_type": "code",
   "execution_count": 18,
   "metadata": {},
   "outputs": [
    {
     "data": {
      "text/plain": [
       "(5000, 3)"
      ]
     },
     "execution_count": 18,
     "metadata": {},
     "output_type": "execute_result"
    }
   ],
   "source": [
    "toxic_data_1.shape"
   ]
  },
  {
   "cell_type": "code",
   "execution_count": 19,
   "metadata": {},
   "outputs": [
    {
     "data": {
      "text/plain": [
       "(10000, 3)"
      ]
     },
     "execution_count": 19,
     "metadata": {},
     "output_type": "execute_result"
    }
   ],
   "source": [
    "# concatinate the two datasets to get the final dataset for toxic comments\n",
    "\n",
    "toxic_data_final = pd.concat([toxic_data_0,toxic_data_1],axis=0)\n",
    "\n",
    "toxic_data_final.reset_index(drop=True, inplace=True) # Reset index\n",
    "\n",
    "toxic_data_final.shape"
   ]
  },
  {
   "cell_type": "code",
   "execution_count": 20,
   "metadata": {},
   "outputs": [
    {
     "data": {
      "text/html": [
       "<div>\n",
       "<style scoped>\n",
       "    .dataframe tbody tr th:only-of-type {\n",
       "        vertical-align: middle;\n",
       "    }\n",
       "\n",
       "    .dataframe tbody tr th {\n",
       "        vertical-align: top;\n",
       "    }\n",
       "\n",
       "    .dataframe thead th {\n",
       "        text-align: right;\n",
       "    }\n",
       "</style>\n",
       "<table border=\"1\" class=\"dataframe\">\n",
       "  <thead>\n",
       "    <tr style=\"text-align: right;\">\n",
       "      <th></th>\n",
       "      <th>id</th>\n",
       "      <th>comment_text</th>\n",
       "      <th>toxic</th>\n",
       "    </tr>\n",
       "  </thead>\n",
       "  <tbody>\n",
       "    <tr>\n",
       "      <th>0</th>\n",
       "      <td>0000997932d777bf</td>\n",
       "      <td>expl edit mad usernam hardc metallic fan rever...</td>\n",
       "      <td>0</td>\n",
       "    </tr>\n",
       "    <tr>\n",
       "      <th>1</th>\n",
       "      <td>000103f0d9cfb60f</td>\n",
       "      <td>aww match background colo seem stuck thank tal...</td>\n",
       "      <td>0</td>\n",
       "    </tr>\n",
       "    <tr>\n",
       "      <th>2</th>\n",
       "      <td>000113f07ec002fd</td>\n",
       "      <td>hey man real try edit war guy const remov rele...</td>\n",
       "      <td>0</td>\n",
       "    </tr>\n",
       "    <tr>\n",
       "      <th>3</th>\n",
       "      <td>0001b41b1c6bb37e</td>\n",
       "      <td>mak real suggest improv wond sect stat lat sub...</td>\n",
       "      <td>0</td>\n",
       "    </tr>\n",
       "    <tr>\n",
       "      <th>4</th>\n",
       "      <td>0001d958c54c6e35</td>\n",
       "      <td>sir hero chant rememb pag</td>\n",
       "      <td>0</td>\n",
       "    </tr>\n",
       "    <tr>\n",
       "      <th>...</th>\n",
       "      <td>...</td>\n",
       "      <td>...</td>\n",
       "      <td>...</td>\n",
       "    </tr>\n",
       "    <tr>\n",
       "      <th>9995</th>\n",
       "      <td>88ee361576d2463a</td>\n",
       "      <td>know els say artic stay fix also edit com lik ...</td>\n",
       "      <td>1</td>\n",
       "    </tr>\n",
       "    <tr>\n",
       "      <th>9996</th>\n",
       "      <td>88f4ed433a57bae3</td>\n",
       "      <td>guess marvel direct stuff cop direct handbook ...</td>\n",
       "      <td>1</td>\n",
       "    </tr>\n",
       "    <tr>\n",
       "      <th>9997</th>\n",
       "      <td>88f9931bbf26aed8</td>\n",
       "      <td>afl maj dick head funny cre network miss infor...</td>\n",
       "      <td>1</td>\n",
       "    </tr>\n",
       "    <tr>\n",
       "      <th>9998</th>\n",
       "      <td>8904b29a973e5204</td>\n",
       "      <td>car think car ban ha rath quit funny mean up a...</td>\n",
       "      <td>1</td>\n",
       "    </tr>\n",
       "    <tr>\n",
       "      <th>9999</th>\n",
       "      <td>890a1698ef32a550</td>\n",
       "      <td>wow funny biggest ahol encount stop harass</td>\n",
       "      <td>1</td>\n",
       "    </tr>\n",
       "  </tbody>\n",
       "</table>\n",
       "<p>10000 rows × 3 columns</p>\n",
       "</div>"
      ],
      "text/plain": [
       "                    id                                       comment_text  \\\n",
       "0     0000997932d777bf  expl edit mad usernam hardc metallic fan rever...   \n",
       "1     000103f0d9cfb60f  aww match background colo seem stuck thank tal...   \n",
       "2     000113f07ec002fd  hey man real try edit war guy const remov rele...   \n",
       "3     0001b41b1c6bb37e  mak real suggest improv wond sect stat lat sub...   \n",
       "4     0001d958c54c6e35                          sir hero chant rememb pag   \n",
       "...                ...                                                ...   \n",
       "9995  88ee361576d2463a  know els say artic stay fix also edit com lik ...   \n",
       "9996  88f4ed433a57bae3  guess marvel direct stuff cop direct handbook ...   \n",
       "9997  88f9931bbf26aed8  afl maj dick head funny cre network miss infor...   \n",
       "9998  8904b29a973e5204  car think car ban ha rath quit funny mean up a...   \n",
       "9999  890a1698ef32a550         wow funny biggest ahol encount stop harass   \n",
       "\n",
       "      toxic  \n",
       "0         0  \n",
       "1         0  \n",
       "2         0  \n",
       "3         0  \n",
       "4         0  \n",
       "...     ...  \n",
       "9995      1  \n",
       "9996      1  \n",
       "9997      1  \n",
       "9998      1  \n",
       "9999      1  \n",
       "\n",
       "[10000 rows x 3 columns]"
      ]
     },
     "execution_count": 20,
     "metadata": {},
     "output_type": "execute_result"
    }
   ],
   "source": [
    "toxic_data_final"
   ]
  },
  {
   "cell_type": "markdown",
   "metadata": {},
   "source": [
    "### Severe Toxic\n",
    "For severe toxic we have 1595 samples so we can do the same method"
   ]
  },
  {
   "cell_type": "code",
   "execution_count": 21,
   "metadata": {},
   "outputs": [
    {
     "data": {
      "text/plain": [
       "(1595, 3)"
      ]
     },
     "execution_count": 21,
     "metadata": {},
     "output_type": "execute_result"
    }
   ],
   "source": [
    "# Take 1595 rows for 0 and 1 cases and print the shape\n",
    "severe_toxic_data_0 = severe_toxic_data[severe_toxic_data['severe_toxic'] == 0].iloc[0:1595,:]\n",
    "severe_toxic_data_0.shape\n",
    "\n",
    "severe_toxic_data_1 = severe_toxic_data[severe_toxic_data['severe_toxic'] == 1].iloc[0:1595,:]\n",
    "severe_toxic_data_1.shape"
   ]
  },
  {
   "cell_type": "code",
   "execution_count": 22,
   "metadata": {},
   "outputs": [
    {
     "data": {
      "text/plain": [
       "(3190, 3)"
      ]
     },
     "execution_count": 22,
     "metadata": {},
     "output_type": "execute_result"
    }
   ],
   "source": [
    "# concatinate the two datasets to get the final dataset for severe toxic comments\n",
    "\n",
    "severe_toxic_data_final = pd.concat([severe_toxic_data_0,severe_toxic_data_1],axis=0)\n",
    "\n",
    "severe_toxic_data_final.reset_index(drop=True, inplace=True) # Reset index\n",
    "\n",
    "severe_toxic_data_final.shape"
   ]
  },
  {
   "cell_type": "markdown",
   "metadata": {},
   "source": [
    "### Obscene\n",
    "\n",
    "For obscene we have 8449 data so we will ake 5000 each"
   ]
  },
  {
   "cell_type": "code",
   "execution_count": 23,
   "metadata": {},
   "outputs": [
    {
     "data": {
      "text/plain": [
       "(5000, 3)"
      ]
     },
     "execution_count": 23,
     "metadata": {},
     "output_type": "execute_result"
    }
   ],
   "source": [
    "# Take 5000 rows for 0 and 1 cases and print the shape\n",
    "obscene_data_0 = obscene_data[obscene_data['obscene'] == 0].iloc[0:5000,:]\n",
    "obscene_data_0.shape\n",
    "\n",
    "obscene_data_1 = obscene_data[obscene_data['obscene'] == 1].iloc[0:5000,:]\n",
    "obscene_data_1.shape"
   ]
  },
  {
   "cell_type": "code",
   "execution_count": 24,
   "metadata": {},
   "outputs": [
    {
     "data": {
      "text/plain": [
       "(10000, 3)"
      ]
     },
     "execution_count": 24,
     "metadata": {},
     "output_type": "execute_result"
    }
   ],
   "source": [
    "# concatinate the two datasets to get the final dataset for obscene comments\n",
    "\n",
    "obscene_data_final = pd.concat([obscene_data_0,obscene_data_1],axis=0)\n",
    "\n",
    "obscene_data_final.reset_index(drop=True, inplace=True) # Reset index\n",
    "\n",
    "obscene_data_final.shape"
   ]
  },
  {
   "cell_type": "markdown",
   "metadata": {},
   "source": [
    "### Threat\n",
    "\n",
    "For threat we have only 478 data so we will take atmost 80 percentage of the clean data else the dataset will be very small"
   ]
  },
  {
   "cell_type": "code",
   "execution_count": 25,
   "metadata": {},
   "outputs": [
    {
     "data": {
      "text/plain": [
       "(478, 3)"
      ]
     },
     "execution_count": 25,
     "metadata": {},
     "output_type": "execute_result"
    }
   ],
   "source": [
    "# Take 1912 rows for 0 and 478 for 1 cases and print the shape\n",
    "threat_data_0 = threat_data[threat_data['threat'] == 0].iloc[0:1912,:]\n",
    "threat_data_0.shape\n",
    "\n",
    "threat_data_1 = threat_data[threat_data['threat'] == 1].iloc[0:478,:]\n",
    "threat_data_1.shape"
   ]
  },
  {
   "cell_type": "code",
   "execution_count": 26,
   "metadata": {},
   "outputs": [
    {
     "data": {
      "text/plain": [
       "(2390, 3)"
      ]
     },
     "execution_count": 26,
     "metadata": {},
     "output_type": "execute_result"
    }
   ],
   "source": [
    "# concatinate the two datasets to get the final dataset for threat comments\n",
    "\n",
    "threat_data_final = pd.concat([threat_data_0,threat_data_1],axis=0)\n",
    "\n",
    "threat_data_final.reset_index(drop=True, inplace=True) # Reset index\n",
    "\n",
    "threat_data_final.shape"
   ]
  },
  {
   "cell_type": "code",
   "execution_count": 27,
   "metadata": {},
   "outputs": [
    {
     "data": {
      "text/html": [
       "<div>\n",
       "<style scoped>\n",
       "    .dataframe tbody tr th:only-of-type {\n",
       "        vertical-align: middle;\n",
       "    }\n",
       "\n",
       "    .dataframe tbody tr th {\n",
       "        vertical-align: top;\n",
       "    }\n",
       "\n",
       "    .dataframe thead th {\n",
       "        text-align: right;\n",
       "    }\n",
       "</style>\n",
       "<table border=\"1\" class=\"dataframe\">\n",
       "  <thead>\n",
       "    <tr style=\"text-align: right;\">\n",
       "      <th></th>\n",
       "      <th>id</th>\n",
       "      <th>comment_text</th>\n",
       "      <th>threat</th>\n",
       "    </tr>\n",
       "  </thead>\n",
       "  <tbody>\n",
       "    <tr>\n",
       "      <th>0</th>\n",
       "      <td>0000997932d777bf</td>\n",
       "      <td>expl edit mad usernam hardc metallic fan rever...</td>\n",
       "      <td>0</td>\n",
       "    </tr>\n",
       "    <tr>\n",
       "      <th>1</th>\n",
       "      <td>000103f0d9cfb60f</td>\n",
       "      <td>aww match background colo seem stuck thank tal...</td>\n",
       "      <td>0</td>\n",
       "    </tr>\n",
       "    <tr>\n",
       "      <th>2</th>\n",
       "      <td>000113f07ec002fd</td>\n",
       "      <td>hey man real try edit war guy const remov rele...</td>\n",
       "      <td>0</td>\n",
       "    </tr>\n",
       "    <tr>\n",
       "      <th>3</th>\n",
       "      <td>0001b41b1c6bb37e</td>\n",
       "      <td>mak real suggest improv wond sect stat lat sub...</td>\n",
       "      <td>0</td>\n",
       "    </tr>\n",
       "    <tr>\n",
       "      <th>4</th>\n",
       "      <td>0001d958c54c6e35</td>\n",
       "      <td>sir hero chant rememb pag</td>\n",
       "      <td>0</td>\n",
       "    </tr>\n",
       "    <tr>\n",
       "      <th>...</th>\n",
       "      <td>...</td>\n",
       "      <td>...</td>\n",
       "      <td>...</td>\n",
       "    </tr>\n",
       "    <tr>\n",
       "      <th>2385</th>\n",
       "      <td>e26b106943e02cbf</td>\n",
       "      <td>bitch fuck hor suck dick big ass hol gay faggo...</td>\n",
       "      <td>1</td>\n",
       "    </tr>\n",
       "    <tr>\n",
       "      <th>2386</th>\n",
       "      <td>f264b7fb9a4b4f53</td>\n",
       "      <td>stupid head dumb stupid die die die go suck but</td>\n",
       "      <td>1</td>\n",
       "    </tr>\n",
       "    <tr>\n",
       "      <th>2387</th>\n",
       "      <td>f4dca9e513e0366f</td>\n",
       "      <td>hey hey faggot dead yet watch mom get rap filt...</td>\n",
       "      <td>1</td>\n",
       "    </tr>\n",
       "    <tr>\n",
       "      <th>2388</th>\n",
       "      <td>f780e4f42aa5a344</td>\n",
       "      <td>dea musulm</td>\n",
       "      <td>1</td>\n",
       "    </tr>\n",
       "    <tr>\n",
       "      <th>2389</th>\n",
       "      <td>fd052883fa6a8697</td>\n",
       "      <td>shalom semit get fuck kil son bitch leav wikip...</td>\n",
       "      <td>1</td>\n",
       "    </tr>\n",
       "  </tbody>\n",
       "</table>\n",
       "<p>2390 rows × 3 columns</p>\n",
       "</div>"
      ],
      "text/plain": [
       "                    id                                       comment_text  \\\n",
       "0     0000997932d777bf  expl edit mad usernam hardc metallic fan rever...   \n",
       "1     000103f0d9cfb60f  aww match background colo seem stuck thank tal...   \n",
       "2     000113f07ec002fd  hey man real try edit war guy const remov rele...   \n",
       "3     0001b41b1c6bb37e  mak real suggest improv wond sect stat lat sub...   \n",
       "4     0001d958c54c6e35                          sir hero chant rememb pag   \n",
       "...                ...                                                ...   \n",
       "2385  e26b106943e02cbf  bitch fuck hor suck dick big ass hol gay faggo...   \n",
       "2386  f264b7fb9a4b4f53    stupid head dumb stupid die die die go suck but   \n",
       "2387  f4dca9e513e0366f  hey hey faggot dead yet watch mom get rap filt...   \n",
       "2388  f780e4f42aa5a344                                         dea musulm   \n",
       "2389  fd052883fa6a8697  shalom semit get fuck kil son bitch leav wikip...   \n",
       "\n",
       "      threat  \n",
       "0          0  \n",
       "1          0  \n",
       "2          0  \n",
       "3          0  \n",
       "4          0  \n",
       "...      ...  \n",
       "2385       1  \n",
       "2386       1  \n",
       "2387       1  \n",
       "2388       1  \n",
       "2389       1  \n",
       "\n",
       "[2390 rows x 3 columns]"
      ]
     },
     "execution_count": 27,
     "metadata": {},
     "output_type": "execute_result"
    }
   ],
   "source": [
    "threat_data_final"
   ]
  },
  {
   "cell_type": "markdown",
   "metadata": {},
   "source": [
    "### Insult\n",
    "\n",
    "We have only 7877 insult comments so we will take 5000 each "
   ]
  },
  {
   "cell_type": "code",
   "execution_count": 28,
   "metadata": {},
   "outputs": [
    {
     "data": {
      "text/plain": [
       "(5000, 3)"
      ]
     },
     "execution_count": 28,
     "metadata": {},
     "output_type": "execute_result"
    }
   ],
   "source": [
    "# Take 5000 rows for 0 and 1 cases and print the shape\n",
    "insult_data_0 = insult_data[insult_data['insult'] == 0].iloc[0:5000,:]\n",
    "insult_data_0.shape\n",
    "\n",
    "insult_data_1 = insult_data[insult_data['insult'] == 1].iloc[0:5000,:]\n",
    "insult_data_1.shape"
   ]
  },
  {
   "cell_type": "code",
   "execution_count": 29,
   "metadata": {},
   "outputs": [
    {
     "data": {
      "text/plain": [
       "(10000, 3)"
      ]
     },
     "execution_count": 29,
     "metadata": {},
     "output_type": "execute_result"
    }
   ],
   "source": [
    "# concatinate the two datasets to get the final dataset for insult comments\n",
    "\n",
    "insult_data_final = pd.concat([insult_data_0,insult_data_1],axis=0)\n",
    "\n",
    "insult_data_final.reset_index(drop=True, inplace=True) # Reset index\n",
    "\n",
    "insult_data_final.shape"
   ]
  },
  {
   "cell_type": "markdown",
   "metadata": {},
   "source": [
    "### Identity Hate\n",
    "\n",
    "We have only 1405 comments for Identity Hate so we will do the same method as threat to make the class balanced"
   ]
  },
  {
   "cell_type": "code",
   "execution_count": 30,
   "metadata": {},
   "outputs": [
    {
     "data": {
      "text/plain": [
       "(1405, 3)"
      ]
     },
     "execution_count": 30,
     "metadata": {},
     "output_type": "execute_result"
    }
   ],
   "source": [
    "# Take 5620 rows for 0 and 1405 data for 1 and print the shape\n",
    "hate_data_0 = hate_data[hate_data['identity_hate'] == 0].iloc[0:5620,:]\n",
    "hate_data_0.shape\n",
    "\n",
    "hate_data_1 = hate_data[hate_data['identity_hate'] == 1].iloc[0:1405,:]\n",
    "hate_data_1.shape"
   ]
  },
  {
   "cell_type": "code",
   "execution_count": 31,
   "metadata": {},
   "outputs": [
    {
     "data": {
      "text/plain": [
       "(7025, 3)"
      ]
     },
     "execution_count": 31,
     "metadata": {},
     "output_type": "execute_result"
    }
   ],
   "source": [
    "# concatinate the two datasets to get the final dataset for insult comments\n",
    "\n",
    "hate_data_final = pd.concat([hate_data_0,hate_data_1],axis=0)\n",
    "\n",
    "hate_data_final.reset_index(drop=True, inplace=True) # Reset index\n",
    "\n",
    "hate_data_final.shape"
   ]
  },
  {
   "cell_type": "markdown",
   "metadata": {},
   "source": [
    "We can add all these dataframe to a list so that we can process them easiy"
   ]
  },
  {
   "cell_type": "code",
   "execution_count": 32,
   "metadata": {},
   "outputs": [],
   "source": [
    "# Combining all dataframes to a list\n",
    "data_final=[toxic_data_final,severe_toxic_data_final,obscene_data_final,threat_data_final,insult_data_final,hate_data_final]"
   ]
  },
  {
   "cell_type": "markdown",
   "metadata": {},
   "source": [
    "#### So these data sets will be used for all our experiments from now on to get better output"
   ]
  },
  {
   "cell_type": "markdown",
   "metadata": {},
   "source": [
    "### Modelling and Evaluation\n",
    "\n",
    "A function is created to split the data, vectorise the data, model the data and analyse the performance of the model "
   ]
  },
  {
   "cell_type": "code",
   "execution_count": 33,
   "metadata": {},
   "outputs": [],
   "source": [
    "def plot_conf(cm,label):\n",
    "    \"\"\"\n",
    "    Plot Confusion matrix of input cm.\n",
    "    \"\"\"\n",
    "    cm = cm.astype('float')/cm.sum(axis=1)[:, np.newaxis]\n",
    "    ax = plt.axes()\n",
    "    sns.heatmap(cm,\n",
    "                annot=True,\n",
    "                annot_kws={\"size\": 12},\n",
    "                cmap=\"Blues\",\n",
    "                fmt='.2f',\n",
    "                linewidths=1,\n",
    "                linecolor='steelblue',\n",
    "                xticklabels=(\"Non-toxic\", label),\n",
    "                yticklabels=(\"Non-toxic\", label))\n",
    "\n",
    "    plt.ylabel('True', fontsize=18)\n",
    "    plt.xlabel('Predicted', fontsize=18)\n",
    "    plt.title('Confusion Matrix for '+label,fontsize=20)\n",
    "    plt.show()"
   ]
  },
  {
   "cell_type": "code",
   "execution_count": 34,
   "metadata": {},
   "outputs": [],
   "source": [
    "# Function to train the model test the model and evaluate the model using confusion matrix\n",
    "\n",
    "def model_scoring(model,X_train,X_test,test,train,label):\n",
    "    model.fit(X_train,train[label])\n",
    "    predictions = model.predict(X_test)\n",
    "    conf_matrix = confusion_matrix(test[label],predictions)\n",
    "    \n",
    "    # Plot the confusion matrix for better understanding\n",
    "    plot_conf(conf_matrix,label)\n",
    "   \n",
    "    #create a list for various scores of the prediction \n",
    "    scores = { 'Accuracy Score' : [accuracy_score(test[label],predictions)],'Recall Score':[recall_score(test[label],predictions)],\n",
    "              'Precision Score' : [precision_score(test[label],predictions)],'F1 Score' : [f1_score(test[label],predictions)]}\n",
    "    \n",
    "    # create a data frame with different scoring as column names\n",
    "    scoring_data = pd.DataFrame(scores, index=[label])\n",
    "    return(scoring_data)\n",
    "    "
   ]
  },
  {
   "cell_type": "code",
   "execution_count": 38,
   "metadata": {},
   "outputs": [],
   "source": [
    "rf=RandomForestClassifier(n_estimators=200, random_state=42, criterion='entropy')"
   ]
  },
  {
   "cell_type": "code",
   "execution_count": 39,
   "metadata": {},
   "outputs": [],
   "source": [
    "def split_vec(data,ngram,test_size,model,label):\n",
    "    cvec = CountVectorizer(ngram_range=(ngram))\n",
    "    train_data, test_data = train_test_split(data, test_size=test_size, random_state=42, shuffle=True)\n",
    "    X_train = train_data['comment_text'] # independent variable of train data\n",
    "    X_test = test_data['comment_text']  # independent variable of test data\n",
    "    # Vectorize training comments\n",
    "    X_train_vec= cvec.fit_transform(X_train)\n",
    "    X_test_vec = cvec.transform(X_test)\n",
    "    score_data=model_scoring(model,X_train_vec,X_test_vec,test_data,train_data,label)\n",
    "    return(score_data)"
   ]
  },
  {
   "cell_type": "code",
   "execution_count": 40,
   "metadata": {
    "scrolled": false
   },
   "outputs": [
    {
     "data": {
      "image/png": "[encoded data removed]",
      "text/plain": [
       "<Figure size 432x288 with 2 Axes>"
      ]
     },
     "metadata": {
      "needs_background": "light"
     },
     "output_type": "display_data"
    },
    {
     "data": {
      "image/png": "[encoded data removed]",
      "text/plain": [
       "<Figure size 432x288 with 2 Axes>"
      ]
     },
     "metadata": {
      "needs_background": "light"
     },
     "output_type": "display_data"
    },
    {
     "data": {
      "image/png": "[encoded data removed]",
      "text/plain": [
       "<Figure size 432x288 with 2 Axes>"
      ]
     },
     "metadata": {
      "needs_background": "light"
     },
     "output_type": "display_data"
    },
    {
     "data": {
      "image/png": "[encoded data removed]",
      "text/plain": [
       "<Figure size 432x288 with 2 Axes>"
      ]
     },
     "metadata": {
      "needs_background": "light"
     },
     "output_type": "display_data"
    },
    {
     "data": {
      "image/png": "[encoded data removed]",
      "text/plain": [
       "<Figure size 432x288 with 2 Axes>"
      ]
     },
     "metadata": {
      "needs_background": "light"
     },
     "output_type": "display_data"
    },
    {
     "data": {
      "image/png": "[encoded data removed]",
      "text/plain": [
       "<Figure size 432x288 with 2 Axes>"
      ]
     },
     "metadata": {
      "needs_background": "light"
     },
     "output_type": "display_data"
    },
    {
     "data": {
      "text/html": [
       "<div>\n",
       "<style scoped>\n",
       "    .dataframe tbody tr th:only-of-type {\n",
       "        vertical-align: middle;\n",
       "    }\n",
       "\n",
       "    .dataframe tbody tr th {\n",
       "        vertical-align: top;\n",
       "    }\n",
       "\n",
       "    .dataframe thead th {\n",
       "        text-align: right;\n",
       "    }\n",
       "</style>\n",
       "<table border=\"1\" class=\"dataframe\">\n",
       "  <thead>\n",
       "    <tr style=\"text-align: right;\">\n",
       "      <th></th>\n",
       "      <th>Accuracy Score</th>\n",
       "      <th>Recall Score</th>\n",
       "      <th>Precision Score</th>\n",
       "      <th>F1 Score</th>\n",
       "    </tr>\n",
       "  </thead>\n",
       "  <tbody>\n",
       "    <tr>\n",
       "      <th>toxic</th>\n",
       "      <td>0.858667</td>\n",
       "      <td>0.767601</td>\n",
       "      <td>0.930406</td>\n",
       "      <td>0.841199</td>\n",
       "    </tr>\n",
       "    <tr>\n",
       "      <th>severe_toxic</th>\n",
       "      <td>0.944619</td>\n",
       "      <td>0.934874</td>\n",
       "      <td>0.952891</td>\n",
       "      <td>0.943796</td>\n",
       "    </tr>\n",
       "    <tr>\n",
       "      <th>obscene</th>\n",
       "      <td>0.919333</td>\n",
       "      <td>0.883800</td>\n",
       "      <td>0.947253</td>\n",
       "      <td>0.914427</td>\n",
       "    </tr>\n",
       "    <tr>\n",
       "      <th>threat</th>\n",
       "      <td>0.933054</td>\n",
       "      <td>0.702899</td>\n",
       "      <td>0.932692</td>\n",
       "      <td>0.801653</td>\n",
       "    </tr>\n",
       "    <tr>\n",
       "      <th>insult</th>\n",
       "      <td>0.891000</td>\n",
       "      <td>0.828435</td>\n",
       "      <td>0.940994</td>\n",
       "      <td>0.881134</td>\n",
       "    </tr>\n",
       "    <tr>\n",
       "      <th>identity_hate</th>\n",
       "      <td>0.925522</td>\n",
       "      <td>0.706856</td>\n",
       "      <td>0.900602</td>\n",
       "      <td>0.792053</td>\n",
       "    </tr>\n",
       "  </tbody>\n",
       "</table>\n",
       "</div>"
      ],
      "text/plain": [
       "               Accuracy Score  Recall Score  Precision Score  F1 Score\n",
       "toxic                0.858667      0.767601         0.930406  0.841199\n",
       "severe_toxic         0.944619      0.934874         0.952891  0.943796\n",
       "obscene              0.919333      0.883800         0.947253  0.914427\n",
       "threat               0.933054      0.702899         0.932692  0.801653\n",
       "insult               0.891000      0.828435         0.940994  0.881134\n",
       "identity_hate        0.925522      0.706856         0.900602  0.792053"
      ]
     },
     "metadata": {},
     "output_type": "display_data"
    }
   ],
   "source": [
    "data_scor_final_2= pd.DataFrame()\n",
    "for data in data_final:\n",
    "    data_scor_2=split_vec(data,(1,1),0.30,rf,data.columns.values[2])\n",
    "    data_scor_final_2=pd.concat([data_scor_final_2,data_scor_2])\n",
    "    \n",
    "display(data_scor_final_2)"
   ]
  },
  {
   "cell_type": "markdown",
   "metadata": {},
   "source": [
    "### Choosing the relevant model"
   ]
  },
  {
   "cell_type": "markdown",
   "metadata": {},
   "source": [
    "Different models listed below were tried with different experimental setups:\n",
    "- Logistic Regression\n",
    "- Random Forest\n",
    "- XGBoost\n",
    "- Linear SVC\n",
    "- Naive Bayes\n",
    "- LSTM\n",
    "- SVM\n",
    "- NN, CNN, RNN\n",
    " Also Pre-trained Models and word embedding transfer learning using glove was experimented.\n",
    "\n",
    "Despite the fact that numerous models and experimental settings outperformed the random forest classifier in terms of accuracy, we opted to adopt the random forest model for the final implementation after evaluating the benefits and drawbacks. This included improvisations such as dealing with data set imbalance, data cleaning, and preprocessing.\n",
    "\n",
    "Because the random forest classifier is based on an ensemble model, it performed well in tests and was more flexible (low bias) and less susceptible to data (low variance)."
   ]
  },
  {
   "cell_type": "markdown",
   "metadata": {},
   "source": [
    "### Web service build using pickling technique"
   ]
  },
  {
   "cell_type": "markdown",
   "metadata": {},
   "source": [
    "## Pickling\n",
    "\n",
    "The state of the art techniques required high computing power which lead to problems like limitation of hardware. Also predicting of large comments caused issues while generating the huge matrixes.\n",
    "We are using a method of pickling inorder to recreate the ojects that we created after training the model and to save our model.This can be used by the application created for user."
   ]
  },
  {
   "cell_type": "code",
   "execution_count": 41,
   "metadata": {},
   "outputs": [],
   "source": [
    "import pickle"
   ]
  },
  {
   "cell_type": "code",
   "execution_count": 42,
   "metadata": {},
   "outputs": [],
   "source": [
    "def model_pickling(data, label):\n",
    "    \n",
    "    X = data.comment_text\n",
    "    y = data[label]\n",
    "\n",
    "    # Initiate a Tfidf vectorizer\n",
    "    tfidf = TfidfVectorizer(ngram_range=(1,1), stop_words='english')\n",
    "    \n",
    "    # Convert the X data into a document term matrix dataframe\n",
    "    x_vec = tfidf.fit_transform(X)  \n",
    "    \n",
    "    # saves the column labels (ie. the vocabulary)\n",
    "    # wb means Writing to the file in Binary mode, written in byte objects\n",
    "    with open(r\"{}.pkl\".format('Pickled_Files/GRP_22_'+label + '_vect'), \"wb\") as filename:   \n",
    "        pickle.dump(tfidf, filename)   \n",
    "        \n",
    "    randomforest = RandomForestClassifier(n_estimators=200, random_state=42)\n",
    "    randomforest.fit(x_vec, y)\n",
    "\n",
    "    # Create a new pickle file based on random forest\n",
    "    with open(r\"{}.pkl\".format('Pickled_Files/GRP_22_'+label + '_model'), \"wb\") as filename:  \n",
    "        pickle.dump(randomforest, filename)"
   ]
  },
  {
   "cell_type": "code",
   "execution_count": null,
   "metadata": {},
   "outputs": [],
   "source": [
    "# Loop to create picklefiles in single run\n",
    "for i,j in zip(data_final,labels):\n",
    "    model_pickling(i, j)"
   ]
  },
  {
   "cell_type": "markdown",
   "metadata": {},
   "source": [
    "## Testing functionality performed"
   ]
  },
  {
   "cell_type": "markdown",
   "metadata": {},
   "source": [
    "A Flask app is set up to take data from the application and feed it to the model, which compares it to previously produced pickle files and displays the predicted values on the app's screen.The user can interact with a harmful comment classifier application that has been trained using the random forest classifier model. The user types in the remark, and the programme calculates the proportion of profanity in the comment after it is submitted.The input comment is stored in the csv whenever it is supplied. It can be used to improve the model's efficiency by further training it."
   ]
  },
  {
   "cell_type": "markdown",
   "metadata": {},
   "source": [
    "## Performance of the Classifier"
   ]
  },
  {
   "cell_type": "markdown",
   "metadata": {},
   "source": [
    "**The model's predictions were rather accurate. It was able to reply to the negative remarks and classify them into various classifications with reasonable accuracy.\n",
    "Sometimes the model didn't always react well to statements that weren't addressed and had multiple meanings in sentence contexts.**\n",
    "\n",
    "Here are some of the examples:\n",
    "\n",
    "**Example 1:**\n",
    "There's no need to apologize. A Wikipedia article is made for reconciling knowledge about a subject from different sources,   and you've done history studies and not archaeology studies, I guess. I could scan the page, e-mail it to you, and then you could ask someone to translate the page.\n",
    "\n",
    "**Prediction :**\n",
    "Toxic:0.21, Sever Toxic : 0.18,  Obscene : 0.1, Insult : 0.09, Threat : 0 , Identity Hate : 0.03\n",
    "\n",
    "**Example 2:**\n",
    "THIS IS MY PAGE FUCKERS SO I CAN SAY WHAT I WANT. FUCK YOU DRINI AND NACONKANTARI... I HOPE YOU ENJOY YOUR SCHEDULED RAPING. \n",
    "\n",
    "**Predicion:**\n",
    "Toxic:0.92, Sever Toxic : 0.79,  Obscene : 0.91, Insult : 0.86, Threat : 0.33 , Identity Hate : 0.41"
   ]
  },
  {
   "cell_type": "markdown",
   "metadata": {},
   "source": [
    "## CI/CD pipeline"
   ]
  },
  {
   "cell_type": "markdown",
   "metadata": {},
   "source": [
    "The CI/CD stands for Continuous Integration and Continuous Delivery.In Continuous Integration small changes are implemented i and the code in check in to repositories frequently.This is useful in integrating the code developed in different platforms.In Continuous Delivery the delievry is automated to selected infrastructure environments.So this ensures the way to push the code is automated."
   ]
  },
  {
   "cell_type": "markdown",
   "metadata": {},
   "source": [
    "Here we are simple pipeline so that in the future, a new individual might alter the model or feature vectorization settings simply by altering the pipeline function's arguments. If necessary, this must be done manually."
   ]
  },
  {
   "cell_type": "code",
   "execution_count": 7,
   "metadata": {},
   "outputs": [],
   "source": [
    "from sklearn.pipeline import Pipeline\n",
    "from joblib import dump"
   ]
  },
  {
   "cell_type": "code",
   "execution_count": 6,
   "metadata": {},
   "outputs": [],
   "source": [
    "pipeline = Pipeline(steps= [('tfidf', TfidfVectorizer(ngram_range=(1,1), stop_words=stopwords.words('english'))),\n",
    "                            ('model', RandomForestClassifier(n_estimators=200, random_state=42, criterion='entropy'))])"
   ]
  },
  {
   "cell_type": "code",
   "execution_count": 8,
   "metadata": {},
   "outputs": [],
   "source": [
    "def create_pipeline(data, label,pipeline):\n",
    "    \n",
    "    X = data.comment_text\n",
    "    y = data[label]\n",
    "    filename=r\"{}.joblib\".format('Pipeline_Files/GRP_22_'+label + '_pipeline')\n",
    "    dump(pipeline, filename=filename)"
   ]
  },
  {
   "cell_type": "code",
   "execution_count": null,
   "metadata": {},
   "outputs": [],
   "source": [
    "for i,j in zip(data_final,labels):\n",
    "    create_pipeline(i, j,pipeline)"
   ]
  },
  {
   "cell_type": "markdown",
   "metadata": {},
   "source": [
    "## Conclusion"
   ]
  },
  {
   "cell_type": "markdown",
   "metadata": {},
   "source": [
    "We used Random Forest to train the model and create pickle files, and then did the prediction using these pre-trained files.A comment is predicted with its toxicity level for each of the six labels to the user.\n",
    "\n",
    "**Conclusion and future improvements to this project**\n",
    "\n",
    "•\tImprove the training dataset, by using data saved from user inputs, including more features with higher n-gram models\n",
    "\n",
    "•\tImprove the prediction scores across the 6 categories, including 'toxic', 'severe toxic, 'obscene', 'threat', 'insult', and 'identity hate'.\n",
    "\n",
    "•\tImprove the prediction ability, in which the model can recognize the word context (sentiment analysis) so that it can evaluate the toxic content probability of sentences, not only by specific words\n"
   ]
  }
 ],
 "metadata": {
  "kernelspec": {
   "display_name": "Python 3",
   "language": "python",
   "name": "python3"
  },
  "language_info": {
   "codemirror_mode": {
    "name": "ipython",
    "version": 3
   },
   "file_extension": ".py",
   "mimetype": "text/x-python",
   "name": "python",
   "nbconvert_exporter": "python",
   "pygments_lexer": "ipython3",
   "version": "3.8.5"
  }
 },
 "nbformat": 4,
 "nbformat_minor": 4
}
